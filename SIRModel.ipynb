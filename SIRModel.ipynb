{
  "nbformat": 4,
  "nbformat_minor": 0,
  "metadata": {
    "colab": {
      "name": "SIRModel.ipynb",
      "provenance": [],
      "collapsed_sections": [],
      "include_colab_link": true
    },
    "kernelspec": {
      "name": "python3",
      "display_name": "Python 3"
    },
    "language_info": {
      "name": "python"
    }
  },
  "cells": [
    {
      "cell_type": "markdown",
      "metadata": {
        "id": "view-in-github",
        "colab_type": "text"
      },
      "source": [
        "<a href=\"https://colab.research.google.com/github/yeabsiramoges/SIRModel/blob/main/SIRModel.ipynb\" target=\"_parent\"><img src=\"https://colab.research.google.com/assets/colab-badge.svg\" alt=\"Open In Colab\"/></a>"
      ]
    },
    {
      "cell_type": "code",
      "metadata": {
        "id": "pOGnUSZDaEg_"
      },
      "source": [
        "import numpy as np\n",
        "import scipy as sp\n",
        "from scipy.integrate import solve_ivp\n",
        "from scipy.integrate import odeint\n",
        "import matplotlib.pyplot as plt\n",
        "from scipy import optimize"
      ],
      "execution_count": null,
      "outputs": []
    },
    {
      "cell_type": "code",
      "metadata": {
        "colab": {
          "base_uri": "https://localhost:8080/"
        },
        "id": "b7uFiC6Zfze5",
        "outputId": "967294de-9939-4fa3-fd49-5a44624d678a"
      },
      "source": [
        "epsilon = 0.001\n",
        "np.roots([epsilon,0,0,0,-1,1])"
      ],
      "execution_count": null,
      "outputs": [
        {
          "output_type": "execute_result",
          "data": {
            "text/plain": [
              "array([-5.84971163+0.j        , -0.24529354+5.65020053j,\n",
              "       -0.24529354-5.65020053j,  5.33929367+0.j        ,\n",
              "        1.00100504+0.j        ])"
            ]
          },
          "metadata": {
            "tags": []
          },
          "execution_count": 6
        }
      ]
    },
    {
      "cell_type": "code",
      "metadata": {
        "colab": {
          "base_uri": "https://localhost:8080/"
        },
        "id": "KLZPS5sdnplP",
        "outputId": "061e4bd0-b23a-4ec5-879f-9a1a9399b242"
      },
      "source": [
        "(1/epsilon)**(1/4)"
      ],
      "execution_count": null,
      "outputs": [
        {
          "output_type": "execute_result",
          "data": {
            "text/plain": [
              "5.623413251903491"
            ]
          },
          "metadata": {
            "tags": []
          },
          "execution_count": 7
        }
      ]
    },
    {
      "cell_type": "code",
      "metadata": {
        "id": "b79R5IyFgkOr"
      },
      "source": [
        "eps_num=[pow(10,eps) for eps in np.arange(-6,-0.70,0.001)];\n",
        "y_num=[[np.real(root) for root in np.roots([eps,0,0,0,-1,0,0,1]) if np.imag(root)==0] for eps in eps_num];\n",
        "y_pos=[[yi for yi in y if yi>0] for y in y_num]; #Positive roots#"
      ],
      "execution_count": null,
      "outputs": []
    },
    {
      "cell_type": "code",
      "metadata": {
        "id": "9BbsKXU2goxw"
      },
      "source": [
        "eps_ana=[pow(10,eps) for eps in np.arange(-6,0,0.001)];\n",
        "y1=[1+eps-eps for eps in eps_ana];\n",
        "y2=[(1./eps)**(1/4) for eps in eps_ana];"
      ],
      "execution_count": null,
      "outputs": []
    },
    {
      "cell_type": "code",
      "metadata": {
        "colab": {
          "base_uri": "https://localhost:8080/",
          "height": 319
        },
        "id": "AeCfwLuLg1-h",
        "outputId": "6dd5e330-a30b-45ff-bd80-96a31ffecb26"
      },
      "source": [
        "plt.rcParams['font.family']='DejaVu Sans'\n",
        "plt.rcParams['font.size']=18\n",
        "plt.loglog(eps_num,y_pos,linewidth=3,label=\"numerical\");\n",
        "plt.xlabel(\"$\\epsilon$\");\n",
        "plt.ylabel(\"y\");\n",
        "plt.loglog(eps_ana,y1,\"b--\",linewidth=2.5,label=\"analytical\");\n",
        "plt.loglog(eps_ana,y2,\"r--\",linewidth=2.5,label=\"analytical\");\n",
        "plt.title(\"Positive real roots Group A\")\n",
        "plt.legend(bbox_to_anchor=(1.05, 1), loc=2, borderaxespad=0.);\n",
        "plt.savefig('plot1.png',dpi=600,bbox_inches='tight')"
      ],
      "execution_count": null,
      "outputs": [
        {
          "output_type": "display_data",
          "data": {
            "image/png": "[encoded data removed]",
            "text/plain": [
              "<Figure size 432x288 with 1 Axes>"
            ]
          },
          "metadata": {
            "tags": [],
            "needs_background": "light"
          }
        }
      ]
    },
    {
      "cell_type": "code",
      "metadata": {
        "id": "yPNG4djBcfvB"
      },
      "source": [
        "def expox(x):\n",
        "  return x*np.exp(-x)"
      ],
      "execution_count": null,
      "outputs": []
    },
    {
      "cell_type": "code",
      "metadata": {
        "colab": {
          "base_uri": "https://localhost:8080/",
          "height": 263
        },
        "id": "t6NCGM3fckvu",
        "outputId": "56957a41-b720-48d2-a42f-6b524a921d63"
      },
      "source": [
        "x= np.linspace(0,10,1000)\n",
        "plt.rcParams['font.family']='DejaVu Sans'\n",
        "plt.figure(figsize=(9,8))\n",
        "plt.rcParams.update({'font.size': 18})\n",
        "plt.plot(x,reee(x),'k',LineWidth=3, label = \"Solution\")\n",
        "plt.plot(x,0.2*np.ones(np.size(x)),'r',LineWidth=3, label = \"Epsilon\")\n",
        "\n",
        "#plt.ylim(0,2)\n",
        "#plt.xlim(50,1000)\n",
        "#plt.legend(loc='best')\n",
        "plt.xlabel('x')\n",
        "plt.ylabel('y')\n",
        "plt.ylim([1e-9,1e0])\n",
        "plt.xlim([0,4])\n",
        "plt.grid()\n",
        "plt.legend()\n",
        "plt.show()"
      ],
      "execution_count": null,
      "outputs": [
        {
          "output_type": "error",
          "ename": "NameError",
          "evalue": "ignored",
          "traceback": [
            "\u001b[0;31m---------------------------------------------------------------------------\u001b[0m",
            "\u001b[0;31mNameError\u001b[0m                                 Traceback (most recent call last)",
            "\u001b[0;32m<ipython-input-12-f8dc1a5bf101>\u001b[0m in \u001b[0;36m<module>\u001b[0;34m()\u001b[0m\n\u001b[1;32m      3\u001b[0m \u001b[0mplt\u001b[0m\u001b[0;34m.\u001b[0m\u001b[0mfigure\u001b[0m\u001b[0;34m(\u001b[0m\u001b[0mfigsize\u001b[0m\u001b[0;34m=\u001b[0m\u001b[0;34m(\u001b[0m\u001b[0;36m9\u001b[0m\u001b[0;34m,\u001b[0m\u001b[0;36m8\u001b[0m\u001b[0;34m)\u001b[0m\u001b[0;34m)\u001b[0m\u001b[0;34m\u001b[0m\u001b[0;34m\u001b[0m\u001b[0m\n\u001b[1;32m      4\u001b[0m \u001b[0mplt\u001b[0m\u001b[0;34m.\u001b[0m\u001b[0mrcParams\u001b[0m\u001b[0;34m.\u001b[0m\u001b[0mupdate\u001b[0m\u001b[0;34m(\u001b[0m\u001b[0;34m{\u001b[0m\u001b[0;34m'font.size'\u001b[0m\u001b[0;34m:\u001b[0m \u001b[0;36m18\u001b[0m\u001b[0;34m}\u001b[0m\u001b[0;34m)\u001b[0m\u001b[0;34m\u001b[0m\u001b[0;34m\u001b[0m\u001b[0m\n\u001b[0;32m----> 5\u001b[0;31m \u001b[0mplt\u001b[0m\u001b[0;34m.\u001b[0m\u001b[0mplot\u001b[0m\u001b[0;34m(\u001b[0m\u001b[0mx\u001b[0m\u001b[0;34m,\u001b[0m\u001b[0mreee\u001b[0m\u001b[0;34m(\u001b[0m\u001b[0mx\u001b[0m\u001b[0;34m)\u001b[0m\u001b[0;34m,\u001b[0m\u001b[0;34m'k'\u001b[0m\u001b[0;34m,\u001b[0m\u001b[0mLineWidth\u001b[0m\u001b[0;34m=\u001b[0m\u001b[0;36m3\u001b[0m\u001b[0;34m,\u001b[0m \u001b[0mlabel\u001b[0m \u001b[0;34m=\u001b[0m \u001b[0;34m\"Solution\"\u001b[0m\u001b[0;34m)\u001b[0m\u001b[0;34m\u001b[0m\u001b[0;34m\u001b[0m\u001b[0m\n\u001b[0m\u001b[1;32m      6\u001b[0m \u001b[0mplt\u001b[0m\u001b[0;34m.\u001b[0m\u001b[0mplot\u001b[0m\u001b[0;34m(\u001b[0m\u001b[0mx\u001b[0m\u001b[0;34m,\u001b[0m\u001b[0;36m0.2\u001b[0m\u001b[0;34m*\u001b[0m\u001b[0mnp\u001b[0m\u001b[0;34m.\u001b[0m\u001b[0mones\u001b[0m\u001b[0;34m(\u001b[0m\u001b[0mnp\u001b[0m\u001b[0;34m.\u001b[0m\u001b[0msize\u001b[0m\u001b[0;34m(\u001b[0m\u001b[0mx\u001b[0m\u001b[0;34m)\u001b[0m\u001b[0;34m)\u001b[0m\u001b[0;34m,\u001b[0m\u001b[0;34m'r'\u001b[0m\u001b[0;34m,\u001b[0m\u001b[0mLineWidth\u001b[0m\u001b[0;34m=\u001b[0m\u001b[0;36m3\u001b[0m\u001b[0;34m,\u001b[0m \u001b[0mlabel\u001b[0m \u001b[0;34m=\u001b[0m \u001b[0;34m\"Epsilon\"\u001b[0m\u001b[0;34m)\u001b[0m\u001b[0;34m\u001b[0m\u001b[0;34m\u001b[0m\u001b[0m\n\u001b[1;32m      7\u001b[0m \u001b[0;34m\u001b[0m\u001b[0m\n",
            "\u001b[0;31mNameError\u001b[0m: name 'reee' is not defined"
          ]
        },
        {
          "output_type": "display_data",
          "data": {
            "text/plain": [
              "<Figure size 648x576 with 0 Axes>"
            ]
          },
          "metadata": {
            "tags": []
          }
        }
      ]
    },
    {
      "cell_type": "code",
      "metadata": {
        "id": "HAPuXN04dlY3"
      },
      "source": [
        "def xeps(x):\n",
        "  return expox(x) - 0.2"
      ],
      "execution_count": null,
      "outputs": []
    },
    {
      "cell_type": "code",
      "metadata": {
        "colab": {
          "base_uri": "https://localhost:8080/"
        },
        "id": "IG9vXpTvc__y",
        "outputId": "6697e0db-8dba-4b66-e993-230b2507a4e7"
      },
      "source": [
        "epsilon = 0.2\n",
        "optimize.newton(xeps,0.1)\n"
      ],
      "execution_count": null,
      "outputs": [
        {
          "output_type": "execute_result",
          "data": {
            "text/plain": [
              "0.2591711018190737"
            ]
          },
          "metadata": {
            "tags": []
          },
          "execution_count": 14
        }
      ]
    },
    {
      "cell_type": "code",
      "metadata": {
        "colab": {
          "base_uri": "https://localhost:8080/"
        },
        "id": "yme7MJPVe8xz",
        "outputId": "b987ca50-7a95-4c8c-9a8c-ed880ceed139"
      },
      "source": [
        "optimize.newton(xeps, 2)"
      ],
      "execution_count": null,
      "outputs": [
        {
          "output_type": "execute_result",
          "data": {
            "text/plain": [
              "2.542641357773525"
            ]
          },
          "metadata": {
            "tags": []
          },
          "execution_count": 15
        }
      ]
    },
    {
      "cell_type": "code",
      "metadata": {
        "colab": {
          "base_uri": "https://localhost:8080/"
        },
        "id": "to10Tqgdpxvu",
        "outputId": "1ab335c5-dceb-4632-b640-dd8f8e8fdbbf"
      },
      "source": [
        "np.log(1/epsilon)"
      ],
      "execution_count": null,
      "outputs": [
        {
          "output_type": "execute_result",
          "data": {
            "text/plain": [
              "1.6094379124341003"
            ]
          },
          "metadata": {
            "tags": []
          },
          "execution_count": 16
        }
      ]
    },
    {
      "cell_type": "markdown",
      "metadata": {
        "id": "3QJ1dKvCjDcU"
      },
      "source": [
        "Can we guess what is going on? "
      ]
    },
    {
      "cell_type": "code",
      "metadata": {
        "id": "W7OGF-MqaFTC"
      },
      "source": [
        "def f(x,y):\n",
        "    y1= -y+1 / (1+x**2)\n",
        "    return y1\n",
        "sol1 = solve_ivp(f, [2,1000],[3,2])\n",
        "ts = sol1.t\n",
        "ys = sol1.y[0]"
      ],
      "execution_count": null,
      "outputs": []
    },
    {
      "cell_type": "code",
      "metadata": {
        "id": "da1s4zBabqHd"
      },
      "source": [
        "t = np.linspace(2,1000,10000)"
      ],
      "execution_count": null,
      "outputs": []
    },
    {
      "cell_type": "code",
      "metadata": {
        "colab": {
          "base_uri": "https://localhost:8080/",
          "height": 515
        },
        "id": "zrI04kzYaYgJ",
        "outputId": "dd91fd60-2034-469d-9dfb-8f4ca1303765"
      },
      "source": [
        "plt.rcParams['font.family']='DejaVu Sans'\n",
        "plt.figure(figsize=(9,8))\n",
        "plt.rcParams.update({'font.size': 18})\n",
        "plt.loglog(sol1.t,sol1.y[0].T,'k',LineWidth=3, label = \"actual solution\")\n",
        "plt.loglog(sol1.t, 1 / (1+sol1.t)**2, 'b',LineWidth=3,label = \"large x solution\") \n",
        "plt.loglog(t, 3*np.exp(2-t), 'r',LineWidth=3,label = \"small x solution\") \n",
        "\n",
        "#plt.ylim(0,2)\n",
        "#plt.xlim(50,1000)\n",
        "#plt.legend(loc='best')\n",
        "plt.xlabel('x')\n",
        "plt.ylabel('y')\n",
        "plt.ylim([1e-9,1e0])\n",
        "plt.grid()\n",
        "plt.legend()\n",
        "plt.show()"
      ],
      "execution_count": null,
      "outputs": [
        {
          "output_type": "display_data",
          "data": {
            "image/png": "[encoded data removed]",
            "text/plain": [
              "<Figure size 648x576 with 1 Axes>"
            ]
          },
          "metadata": {
            "tags": [],
            "needs_background": "light"
          }
        }
      ]
    },
    {
      "cell_type": "code",
      "metadata": {
        "id": "oNMtsr_gaaHh"
      },
      "source": [
        ""
      ],
      "execution_count": null,
      "outputs": []
    },
    {
      "cell_type": "code",
      "metadata": {
        "id": "8o75TLKNbLMH"
      },
      "source": [
        "k = .3\n",
        "C = 10\n",
        "p = .6\n",
        "N = 1000\n",
        "\n",
        "def SIR(t,z,beta=C*p/N,gamma=k):\n",
        "\n",
        "  S,I,R = z\n",
        "\n",
        "  return [-beta*S*I, beta*S*I - gamma*I, gamma*I]"
      ],
      "execution_count": null,
      "outputs": []
    },
    {
      "cell_type": "code",
      "metadata": {
        "id": "EBK7HSxwIjDt"
      },
      "source": [
        ""
      ],
      "execution_count": null,
      "outputs": []
    },
    {
      "cell_type": "code",
      "metadata": {
        "id": "Qkd0tLxKGvi4"
      },
      "source": [
        "ts = np.linspace(0,20000,1000)"
      ],
      "execution_count": null,
      "outputs": []
    },
    {
      "cell_type": "code",
      "metadata": {
        "id": "z7IcSHQ7HRDj"
      },
      "source": [
        "sol = solve_ivp(SIR, ts,[990,10,0])"
      ],
      "execution_count": null,
      "outputs": []
    },
    {
      "cell_type": "code",
      "metadata": {
        "colab": {
          "base_uri": "https://localhost:8080/"
        },
        "id": "HPEZaJ0nH8Xt",
        "outputId": "245c7a21-f2aa-45b8-f4af-ad9a8982784c"
      },
      "source": [
        "sol"
      ],
      "execution_count": null,
      "outputs": [
        {
          "output_type": "execute_result",
          "data": {
            "text/plain": [
              "  message: 'The solver successfully reached the end of the integration interval.'\n",
              "     nfev: 182\n",
              "     njev: 0\n",
              "      nlu: 0\n",
              "      sol: None\n",
              "   status: 0\n",
              "  success: True\n",
              "        t: array([0.00000000e+00, 4.71379882e-04, 5.18517871e-03, 5.23231670e-02,\n",
              "       2.05747618e-01, 4.23411043e-01, 6.89348338e-01, 1.02279773e+00,\n",
              "       1.20475483e+00, 1.38671194e+00, 1.60525404e+00, 1.81327454e+00,\n",
              "       2.02872734e+00, 2.25552310e+00, 2.49665876e+00, 2.75477065e+00,\n",
              "       3.03272977e+00, 3.33400168e+00, 3.66308582e+00, 4.02628071e+00,\n",
              "       4.43326258e+00, 4.90047552e+00, 5.45804324e+00, 6.16266242e+00,\n",
              "       7.12316068e+00, 8.56996384e+00, 1.11124928e+01, 1.44055729e+01,\n",
              "       1.76497021e+01, 2.00200200e+01])\n",
              " t_events: None\n",
              "        y: array([[9.90000000e+02, 9.89971963e+02, 9.89687502e+02, 9.86392041e+02,\n",
              "        9.67289404e+02, 8.94390695e+02, 6.51283625e+02, 2.26821175e+02,\n",
              "        9.99790167e+01, 4.18729033e+01, 1.48570716e+01, 5.77956763e+00,\n",
              "        2.29225349e+00, 9.19074254e-01, 3.71024282e-01, 1.50625580e-01,\n",
              "        6.14814005e-02, 2.52336048e-02, 1.04129378e-02, 4.31636560e-03,\n",
              "        1.79167211e-03, 7.39084172e-04, 2.98576788e-04, 1.15678287e-04,\n",
              "        4.22434261e-05, 1.47048275e-05, 5.67908529e-06, 3.31887371e-06,\n",
              "        2.69035383e-06, 2.51972626e-06],\n",
              "       [1.00000000e+01, 1.00266208e+01, 1.02967124e+01, 1.34254062e+01,\n",
              "        3.15502523e+01, 1.00531992e+02, 3.27802722e+02, 6.99537181e+02,\n",
              "        7.85426523e+02, 8.00033256e+02, 7.75261467e+02, 7.37113911e+02,\n",
              "        6.94336227e+02, 6.49985938e+02, 6.05151560e+02, 5.60271563e+02,\n",
              "        5.15531629e+02, 4.71015089e+02, 4.26749714e+02, 3.82701068e+02,\n",
              "        3.38717548e+02, 2.94419608e+02, 2.49070822e+02, 2.01613473e+02,\n",
              "        1.51139545e+02, 9.79215382e+01, 4.56764818e+01, 1.70267822e+01,\n",
              "        6.44020058e+00, 3.16316010e+00],\n",
              "       [0.00000000e+00, 1.41602110e-03, 1.57852003e-02, 1.82553009e-01,\n",
              "        1.16034382e+00, 5.07731245e+00, 2.09136535e+01, 7.36416434e+01,\n",
              "        1.14594460e+02, 1.58093841e+02, 2.09881461e+02, 2.57106521e+02,\n",
              "        3.03371519e+02, 3.49094987e+02, 3.94477415e+02, 4.39577811e+02,\n",
              "        4.84406890e+02, 5.28959677e+02, 5.73239873e+02, 6.17294616e+02,\n",
              "        6.61280660e+02, 7.05579653e+02, 7.50928879e+02, 7.98386412e+02,\n",
              "        8.48860413e+02, 9.02078447e+02, 9.54323513e+02, 9.82973214e+02,\n",
              "        9.93559797e+02, 9.96836837e+02]])\n",
              " y_events: None"
            ]
          },
          "metadata": {
            "tags": []
          },
          "execution_count": 23
        }
      ]
    },
    {
      "cell_type": "code",
      "metadata": {
        "colab": {
          "base_uri": "https://localhost:8080/"
        },
        "id": "4Gf99s3EJT8-",
        "outputId": "ba102391-d72b-48a6-da57-daa555583655"
      },
      "source": [
        "sol.t"
      ],
      "execution_count": null,
      "outputs": [
        {
          "output_type": "execute_result",
          "data": {
            "text/plain": [
              "array([0.00000000e+00, 4.71379882e-04, 5.18517871e-03, 5.23231670e-02,\n",
              "       2.05747618e-01, 4.23411043e-01, 6.89348338e-01, 1.02279773e+00,\n",
              "       1.20475483e+00, 1.38671194e+00, 1.60525404e+00, 1.81327454e+00,\n",
              "       2.02872734e+00, 2.25552310e+00, 2.49665876e+00, 2.75477065e+00,\n",
              "       3.03272977e+00, 3.33400168e+00, 3.66308582e+00, 4.02628071e+00,\n",
              "       4.43326258e+00, 4.90047552e+00, 5.45804324e+00, 6.16266242e+00,\n",
              "       7.12316068e+00, 8.56996384e+00, 1.11124928e+01, 1.44055729e+01,\n",
              "       1.76497021e+01, 2.00200200e+01])"
            ]
          },
          "metadata": {
            "tags": []
          },
          "execution_count": 24
        }
      ]
    },
    {
      "cell_type": "code",
      "metadata": {
        "id": "sNzjztfmJtpD"
      },
      "source": [
        "S = sol.y[0]\n",
        "I = sol.y[1]\n",
        "R = sol.y[2]"
      ],
      "execution_count": null,
      "outputs": []
    },
    {
      "cell_type": "code",
      "metadata": {
        "colab": {
          "base_uri": "https://localhost:8080/",
          "height": 291
        },
        "id": "QENeWXgzJuPK",
        "outputId": "0d816863-f72f-4cfc-a91b-fdcf99a1b90c"
      },
      "source": [
        "plt.plot(sol.t,S)\n",
        "plt.plot(sol.t,I)\n",
        "plt.plot(sol.t,R)"
      ],
      "execution_count": null,
      "outputs": [
        {
          "output_type": "execute_result",
          "data": {
            "text/plain": [
              "[<matplotlib.lines.Line2D at 0x7f966b50c790>]"
            ]
          },
          "metadata": {
            "tags": []
          },
          "execution_count": 26
        },
        {
          "output_type": "display_data",
          "data": {
            "image/png": "[encoded data removed]",
            "text/plain": [
              "<Figure size 432x288 with 1 Axes>"
            ]
          },
          "metadata": {
            "tags": [],
            "needs_background": "light"
          }
        }
      ]
    },
    {
      "cell_type": "code",
      "metadata": {
        "id": "CyX4ZtK7KPqN"
      },
      "source": [
        ""
      ],
      "execution_count": null,
      "outputs": []
    },
    {
      "cell_type": "code",
      "metadata": {
        "id": "gBG4yY8HJ676"
      },
      "source": [
        ""
      ],
      "execution_count": null,
      "outputs": []
    }
  ]
}